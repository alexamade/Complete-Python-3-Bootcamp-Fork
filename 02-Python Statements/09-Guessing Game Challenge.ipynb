{
 "cells": [
  {
   "cell_type": "markdown",
   "metadata": {},
   "source": [
    "___\n",
    "\n",
    "<a href='https://www.udemy.com/user/joseportilla/'><img src='../Pierian_Data_Logo.png'/></a>\n",
    "___\n",
    "<center><em>Content Copyright by Pierian Data</em></center>"
   ]
  },
  {
   "cell_type": "markdown",
   "metadata": {},
   "source": [
    "# Guessing Game Challenge\n",
    "\n",
    "Let's use `while` loops to create a guessing game.\n",
    "\n",
    "The Challenge:\n",
    "\n",
    "Write a program that picks a random integer from 1 to 100, and has players guess the number. The rules are:\n",
    "\n",
    "1. If a player's guess is less than 1 or greater than 100, say \"OUT OF BOUNDS\"\n",
    "2. On a player's first turn, if their guess is\n",
    " * within 10 of the number, return \"WARM!\"\n",
    " * further than 10 away from the number, return \"COLD!\"\n",
    "3. On all subsequent turns, if a guess is \n",
    " * closer to the number than the previous guess return \"WARMER!\"\n",
    " * farther from the number than the previous guess, return \"COLDER!\"\n",
    "4. When the player's guess equals the number, tell them they've guessed correctly *and* how many guesses it took!\n",
    "\n",
    "You can try this from scratch, or follow the steps outlined below. A separate Solution notebook has been provided. Good luck!\n"
   ]
  },
  {
   "cell_type": "markdown",
   "metadata": {},
   "source": [
    "#### First, pick a random integer from 1 to 100 using the random module and assign it to a variable\n",
    "\n",
    "Note: `random.randint(a,b)` returns a random integer in range `[a, b]`, including both end points."
   ]
  },
  {
   "cell_type": "code",
   "execution_count": 4,
   "metadata": {
    "collapsed": true
   },
   "outputs": [
    {
     "name": "stdout",
     "output_type": "stream",
     "text": [
      "7\n"
     ]
    }
   ],
   "source": []
  },
  {
   "cell_type": "markdown",
   "metadata": {},
   "source": [
    "#### Next, print an introduction to the game and explain the rules"
   ]
  },
  {
   "cell_type": "code",
   "execution_count": 50,
   "metadata": {
    "collapsed": true
   },
   "outputs": [
    {
     "data": {
      "text/plain": [
       "14"
      ]
     },
     "execution_count": 50,
     "metadata": {},
     "output_type": "execute_result"
    }
   ],
   "source": [
    "list = [9,10,15,14,20]\n",
    "list[len(list)-2]"
   ]
  },
  {
   "cell_type": "markdown",
   "metadata": {},
   "source": [
    "#### Create a list to store guesses\n",
    "\n",
    "Hint: zero is a good placeholder value. It's useful because it evaluates to \"False\""
   ]
  },
  {
   "cell_type": "code",
   "execution_count": 8,
   "metadata": {
    "collapsed": true
   },
   "outputs": [],
   "source": [
    "guesses_list = []"
   ]
  },
  {
   "cell_type": "code",
   "execution_count": 9,
   "metadata": {},
   "outputs": [
    {
     "data": {
      "text/plain": [
       "7"
      ]
     },
     "execution_count": 9,
     "metadata": {},
     "output_type": "execute_result"
    }
   ],
   "source": [
    "def get_distance (p1 , p2): \n",
    "    return abs((p1)-(p2))\n",
    "\n",
    "get_distance(3, 10)"
   ]
  },
  {
   "cell_type": "markdown",
   "metadata": {},
   "source": [
    "#### Write a `while` loop that asks for a valid guess. Test it a few times to make sure it works."
   ]
  },
  {
   "cell_type": "code",
   "execution_count": 63,
   "metadata": {
    "collapsed": true
   },
   "outputs": [
    {
     "name": "stdout",
     "output_type": "stream",
     "text": [
      "6\n",
      "Warmer\n",
      "YOu just guessed 10\n",
      "You have taken 1 guesses\n",
      "length of guesses list 1\n",
      "previous Guess 10\n"
     ]
    },
    {
     "ename": "ValueError",
     "evalue": "invalid literal for int() with base 10: ''",
     "output_type": "error",
     "traceback": [
      "\u001b[0;31m---------------------------------------------------------------------------\u001b[0m",
      "\u001b[0;31mValueError\u001b[0m                                Traceback (most recent call last)",
      "\u001b[1;32m/Users/amsmith/GIT/Complete-Python-3-Bootcamp/02-Python Statements/09-Guessing Game Challenge.ipynb Cell 11\u001b[0m in \u001b[0;36m<cell line: 18>\u001b[0;34m()\u001b[0m\n\u001b[1;32m     <a href='vscode-notebook-cell:/Users/amsmith/GIT/Complete-Python-3-Bootcamp/02-Python%20Statements/09-Guessing%20Game%20Challenge.ipynb#ch0000010?line=15'>16</a>\u001b[0m user_guess_text \u001b[39m=\u001b[39m \u001b[39minput\u001b[39m(\u001b[39m\"\u001b[39m\u001b[39mplease enter a guess\u001b[39m\u001b[39m\"\u001b[39m)\n\u001b[1;32m     <a href='vscode-notebook-cell:/Users/amsmith/GIT/Complete-Python-3-Bootcamp/02-Python%20Statements/09-Guessing%20Game%20Challenge.ipynb#ch0000010?line=16'>17</a>\u001b[0m \u001b[39m# user_guess_num = int(user_guess_text)\u001b[39;00m\n\u001b[0;32m---> <a href='vscode-notebook-cell:/Users/amsmith/GIT/Complete-Python-3-Bootcamp/02-Python%20Statements/09-Guessing%20Game%20Challenge.ipynb#ch0000010?line=17'>18</a>\u001b[0m \u001b[39mwhile\u001b[39;00m \u001b[39mint\u001b[39;49m(user_guess_text) \u001b[39m!=\u001b[39m n :\n\u001b[1;32m     <a href='vscode-notebook-cell:/Users/amsmith/GIT/Complete-Python-3-Bootcamp/02-Python%20Statements/09-Guessing%20Game%20Challenge.ipynb#ch0000010?line=18'>19</a>\u001b[0m     guesses_list\u001b[39m.\u001b[39mappend (\u001b[39mint\u001b[39m(user_guess_text))\n\u001b[1;32m     <a href='vscode-notebook-cell:/Users/amsmith/GIT/Complete-Python-3-Bootcamp/02-Python%20Statements/09-Guessing%20Game%20Challenge.ipynb#ch0000010?line=19'>20</a>\u001b[0m     \u001b[39mif\u001b[39;00m \u001b[39mlen\u001b[39m(guesses_list) \u001b[39m<\u001b[39m \u001b[39m2\u001b[39m \u001b[39m&\u001b[39m get_distance(\u001b[39mint\u001b[39m(user_guess_text) , n ) \u001b[39m<\u001b[39m \u001b[39m10\u001b[39m :\n",
      "\u001b[0;31mValueError\u001b[0m: invalid literal for int() with base 10: ''"
     ]
    }
   ],
   "source": [
    "# while the guess is not correct\n",
    "# add the guess to the guess list \n",
    "# if guess list .length < 2 then chcek whether is 10 or more away\n",
    "# else perform the checks \"warmer\", \"colder\" since the last move\n",
    "# while not true print how many items in list \n",
    "import random \n",
    "n = random.randint(3, 9)\n",
    "print (n)\n",
    "\n",
    "def get_distance (p1 , p2): \n",
    "    return abs((p1)-(p2))\n",
    "\n",
    "guesses_list = []\n",
    "\n",
    "user_guess_text = input(\"please enter a guess\")\n",
    "# user_guess_num = int(user_guess_text)\n",
    "while int(user_guess_text) != n :\n",
    "    guesses_list.append (int(user_guess_text))\n",
    "    if len(guesses_list) < 2 & get_distance(int(user_guess_text) , n ) < 10 :\n",
    "        print('Warm')\n",
    "    elif  len(guesses_list) < 2 & get_distance(int(user_guess_text) , n ) > 10 :\n",
    "        print ('Cold')\n",
    "    elif get_distance(int(user_guess_text), n ) > get_distance(guesses_list[len(guesses_list)-2],  n) : \n",
    "        print ('Colder')\n",
    "    else:\n",
    "        print ('Warmer')\n",
    "    print ('YOu just guessed ' + str(user_guess_text)) \n",
    "    print ('You have taken '+ str(len(guesses_list))+' guesses')\n",
    " # Debug print out the last user guess to access logic. \n",
    "    print ('length of guesses list '+ str(len(guesses_list)))\n",
    "    print ('previous Guess '+str(guesses_list[len(guesses_list)-2]))\n",
    "    user_guess_text = input(\"please enter a guess\")\n",
    "    \n",
    "pass\n",
    "\n",
    "print ('Correct Answer you took ' + str(len(guesses_list))+ ' guesses to get the correct answer')\n"
   ]
  },
  {
   "cell_type": "markdown",
   "metadata": {},
   "source": [
    "#### Write a `while` loop that compares the player's guess to our number. If the player guesses correctly, break from the loop. Otherwise, tell the player if they're warmer or colder, and continue asking for guesses.\n",
    "\n",
    "Some hints:\n",
    "* it may help to sketch out all possible combinations on paper first!\n",
    "* you can use the `abs()` function to find the positive difference between two numbers\n",
    "* if you append all new guesses to the list, then the previous guess is given as `guesses[-2]`"
   ]
  },
  {
   "cell_type": "code",
   "execution_count": null,
   "metadata": {
    "collapsed": true
   },
   "outputs": [],
   "source": [
    "while True:\n",
    "\n",
    "    # we can copy the code from above to take an input\n",
    "\n",
    "    pass"
   ]
  },
  {
   "cell_type": "markdown",
   "metadata": {},
   "source": [
    "That's it! You've just programmed your first game!\n",
    "\n",
    "In the next section we'll learn how to turn some of these repetitive actions into *functions* that can be called whenever we need them."
   ]
  },
  {
   "cell_type": "markdown",
   "metadata": {},
   "source": [
    "### Good Job!"
   ]
  }
 ],
 "metadata": {
  "kernelspec": {
   "display_name": "Python 3.8.9 64-bit",
   "language": "python",
   "name": "python3"
  },
  "language_info": {
   "codemirror_mode": {
    "name": "ipython",
    "version": 3
   },
   "file_extension": ".py",
   "mimetype": "text/x-python",
   "name": "python",
   "nbconvert_exporter": "python",
   "pygments_lexer": "ipython3",
   "version": "3.8.9"
  },
  "vscode": {
   "interpreter": {
    "hash": "31f2aee4e71d21fbe5cf8b01ff0e069b9275f58929596ceb00d14d90e3e16cd6"
   }
  }
 },
 "nbformat": 4,
 "nbformat_minor": 2
}
