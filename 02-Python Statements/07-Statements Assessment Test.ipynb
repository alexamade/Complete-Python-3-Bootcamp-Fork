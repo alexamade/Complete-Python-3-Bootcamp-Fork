{
 "cells": [
  {
   "cell_type": "markdown",
   "metadata": {},
   "source": [
    "___\n",
    "\n",
    "<a href='https://www.udemy.com/user/joseportilla/'><img src='../Pierian_Data_Logo.png'/></a>\n",
    "___\n",
    "<center><em>Content Copyright by Pierian Data</em></center>"
   ]
  },
  {
   "cell_type": "markdown",
   "metadata": {
    "collapsed": true
   },
   "source": [
    "# Statements Assessment Test\n",
    "Let's test your knowledge!"
   ]
  },
  {
   "cell_type": "markdown",
   "metadata": {},
   "source": [
    "_____\n",
    "**Use <code>for</code>, .split(), and <code>if</code> to create a Statement that will print out words that start with 's':**"
   ]
  },
  {
   "cell_type": "code",
   "execution_count": null,
   "metadata": {
    "collapsed": true
   },
   "outputs": [],
   "source": [
    "st = 'Print only the words that start with s in this sentence'"
   ]
  },
  {
   "cell_type": "code",
   "execution_count": null,
   "metadata": {
    "collapsed": true
   },
   "outputs": [],
   "source": [
    "#Code here"
   ]
  },
  {
   "cell_type": "markdown",
   "metadata": {},
   "source": [
    "______\n",
    "**Use range() to print all the even numbers from 0 to 10.**"
   ]
  },
  {
   "cell_type": "code",
   "execution_count": null,
   "metadata": {
    "collapsed": true
   },
   "outputs": [],
   "source": [
    "#Code Here"
   ]
  },
  {
   "cell_type": "markdown",
   "metadata": {},
   "source": [
    "___\n",
    "**Use a List Comprehension to create a list of all numbers between 1 and 50 that are divisible by 3.**"
   ]
  },
  {
   "cell_type": "code",
   "execution_count": null,
   "metadata": {
    "collapsed": true
   },
   "outputs": [],
   "source": [
    "#Code in this cell\n",
    "[]"
   ]
  },
  {
   "cell_type": "markdown",
   "metadata": {},
   "source": [
    "_____\n",
    "**Go through the string below and if the length of a word is even print \"even!\"**"
   ]
  },
  {
   "cell_type": "code",
   "execution_count": null,
   "metadata": {
    "collapsed": true
   },
   "outputs": [],
   "source": [
    "st = 'Print every word in this sentence that has an even number of letters'"
   ]
  },
  {
   "cell_type": "code",
   "execution_count": null,
   "metadata": {
    "collapsed": true
   },
   "outputs": [],
   "source": [
    "#Code in this cell"
   ]
  },
  {
   "cell_type": "markdown",
   "metadata": {},
   "source": [
    "____\n",
    "**Write a program that prints the integers from 1 to 100. But for multiples of three print \"Fizz\" instead of the number, and for the multiples of five print \"Buzz\". For numbers which are multiples of both three and five print \"FizzBuzz\".**"
   ]
  },
  {
   "cell_type": "code",
   "execution_count": 8,
   "metadata": {
    "collapsed": true
   },
   "outputs": [
    {
     "name": "stdout",
     "output_type": "stream",
     "text": [
      "0  is a fizzbuzz \n",
      "1\n",
      "2\n",
      "3  is a fizz\n",
      "4\n",
      "5  is a buzz \n",
      "6  is a fizz\n",
      "7\n",
      "8\n",
      "9  is a fizz\n",
      "10  is a buzz \n",
      "11\n",
      "12  is a fizz\n",
      "13\n",
      "14\n",
      "15  is a fizzbuzz \n",
      "16\n",
      "17\n",
      "18  is a fizz\n",
      "19\n",
      "20  is a buzz \n",
      "21  is a fizz\n",
      "22\n",
      "23\n",
      "24  is a fizz\n",
      "25  is a buzz \n",
      "26\n",
      "27  is a fizz\n",
      "28\n",
      "29\n",
      "30  is a fizzbuzz \n",
      "31\n",
      "32\n",
      "33  is a fizz\n",
      "34\n",
      "35  is a buzz \n",
      "36  is a fizz\n",
      "37\n",
      "38\n",
      "39  is a fizz\n",
      "40  is a buzz \n",
      "41\n",
      "42  is a fizz\n",
      "43\n",
      "44\n",
      "45  is a fizzbuzz \n",
      "46\n",
      "47\n",
      "48  is a fizz\n",
      "49\n",
      "50  is a buzz \n",
      "51  is a fizz\n",
      "52\n",
      "53\n",
      "54  is a fizz\n",
      "55  is a buzz \n",
      "56\n",
      "57  is a fizz\n",
      "58\n",
      "59\n",
      "60  is a fizzbuzz \n",
      "61\n",
      "62\n",
      "63  is a fizz\n",
      "64\n",
      "65  is a buzz \n",
      "66  is a fizz\n",
      "67\n",
      "68\n",
      "69  is a fizz\n",
      "70  is a buzz \n",
      "71\n",
      "72  is a fizz\n",
      "73\n",
      "74\n",
      "75  is a fizzbuzz \n",
      "76\n",
      "77\n",
      "78  is a fizz\n",
      "79\n",
      "80  is a buzz \n",
      "81  is a fizz\n",
      "82\n",
      "83\n",
      "84  is a fizz\n",
      "85  is a buzz \n",
      "86\n",
      "87  is a fizz\n",
      "88\n",
      "89\n",
      "90  is a fizzbuzz \n",
      "91\n",
      "92\n",
      "93  is a fizz\n",
      "94\n",
      "95  is a buzz \n",
      "96  is a fizz\n",
      "97\n",
      "98\n",
      "99  is a fizz\n"
     ]
    }
   ],
   "source": [
    "for num in range(0,100):\n",
    "    if num%3==0 and num%5 == 0 :\n",
    "        print (num , ' is a fizzbuzz ')\n",
    "    elif num %3 == 0  :\n",
    "        print (num  , ' is a fizz' )\n",
    "    elif num %5 == 0 :\n",
    "        print (num , ' is a buzz ')\n",
    "    else : \n",
    "        print(num ) \n"
   ]
  },
  {
   "cell_type": "markdown",
   "metadata": {},
   "source": [
    "____\n",
    "**Use List Comprehension to create a list of the first letters of every word in the string below:**"
   ]
  },
  {
   "cell_type": "code",
   "execution_count": 9,
   "metadata": {
    "collapsed": true
   },
   "outputs": [],
   "source": [
    "st = 'Create a list of the first letters of every word in this string'"
   ]
  },
  {
   "cell_type": "code",
   "execution_count": 18,
   "metadata": {
    "collapsed": true
   },
   "outputs": [
    {
     "name": "stdout",
     "output_type": "stream",
     "text": [
      "C\n",
      "a\n",
      "l\n",
      "o\n",
      "t\n",
      "f\n",
      "l\n",
      "o\n",
      "e\n",
      "w\n",
      "i\n",
      "t\n",
      "s\n"
     ]
    }
   ],
   "source": [
    "mylist = st.split() \n",
    "for i in mylist :\n",
    "    print (i[0])\n",
    "    "
   ]
  },
  {
   "cell_type": "markdown",
   "metadata": {},
   "source": [
    "### Great Job!"
   ]
  }
 ],
 "metadata": {
  "kernelspec": {
   "display_name": "Python 3.8.9 64-bit",
   "language": "python",
   "name": "python3"
  },
  "language_info": {
   "codemirror_mode": {
    "name": "ipython",
    "version": 3
   },
   "file_extension": ".py",
   "mimetype": "text/x-python",
   "name": "python",
   "nbconvert_exporter": "python",
   "pygments_lexer": "ipython3",
   "version": "3.8.9"
  },
  "vscode": {
   "interpreter": {
    "hash": "31f2aee4e71d21fbe5cf8b01ff0e069b9275f58929596ceb00d14d90e3e16cd6"
   }
  }
 },
 "nbformat": 4,
 "nbformat_minor": 1
}
