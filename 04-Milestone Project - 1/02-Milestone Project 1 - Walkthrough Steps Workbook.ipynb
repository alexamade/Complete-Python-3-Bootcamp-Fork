{
 "cells": [
  {
   "cell_type": "markdown",
   "metadata": {},
   "source": [
    "___\n",
    "\n",
    "<a href='https://www.udemy.com/user/joseportilla/'><img src='../Pierian_Data_Logo.png'/></a>\n",
    "___\n",
    "<center><em>Content Copyright by Pierian Data</em></center>"
   ]
  },
  {
   "cell_type": "markdown",
   "metadata": {},
   "source": [
    "# Milestone Project 1: Walkthrough Steps Workbook\n",
    "\n",
    "Below is a set of steps for you to follow to try to create the Tic Tac Toe Milestone Project game!"
   ]
  },
  {
   "cell_type": "markdown",
   "metadata": {},
   "source": [
    "#### Some suggested tools before you get started:\n",
    "To take input from a user:\n",
    "\n",
    "    player1 = input(\"Please pick a marker 'X' or 'O'\")\n",
    "    \n",
    "Note that input() takes in a string. If you need an integer value, use\n",
    "\n",
    "    position = int(input('Please enter a number'))\n",
    "    \n",
    "<br>To clear the screen between moves:\n",
    "\n",
    "    from IPython.display import clear_output\n",
    "    clear_output()\n",
    "    \n",
    "Note that clear_output() will only work in jupyter. To clear the screen in other IDEs, consider:\n",
    "\n",
    "    print('\\n'*100)\n",
    "    \n",
    "This scrolls the previous board up out of view. Now on to the program!"
   ]
  },
  {
   "cell_type": "markdown",
   "metadata": {},
   "source": [
    "**Step 1: Write a function that can print out a board. Set up your board as a list, where each index 1-9 corresponds with a number on a number pad, so you get a 3 by 3 board representation.**"
   ]
  },
  {
   "cell_type": "code",
   "execution_count": 4,
   "metadata": {
    "collapsed": true
   },
   "outputs": [
    {
     "name": "stdout",
     "output_type": "stream",
     "text": [
      "Poistions 1-3 ['X', 'O', 'X']\n",
      "Positions 4-6 ['O', 'X', 'O']\n",
      "Positions 7-9 ['X', 'O', 'X']\n"
     ]
    }
   ],
   "source": [
    "from IPython.display import clear_output\n",
    "\n",
    "user_input_sim = ['#','X','O','X','O','X','O','X','O','X']\n",
    "\n",
    "def display_board(board):\n",
    "    \n",
    "    print('Poistions 1-3',board[1:4])\n",
    "    print('Positions 4-6',board[4:7])\n",
    "    print('Positions 7-9',board[7:10])\n",
    "    \n",
    "display_board(user_input_sim)"
   ]
  },
  {
   "cell_type": "markdown",
   "metadata": {},
   "source": [
    "**TEST Step 1:** run your function on a test version of the board list, and make adjustments as necessary"
   ]
  },
  {
   "cell_type": "code",
   "execution_count": 55,
   "metadata": {
    "collapsed": true
   },
   "outputs": [
    {
     "name": "stdout",
     "output_type": "stream",
     "text": [
      "Poistions 1-3 ['X', 'O', 'X']\n",
      "Positions 4-6 ['O', 'X', 'O']\n",
      "Positions 7-9 ['X', 'O', 'X']\n"
     ]
    }
   ],
   "source": [
    "test_board = ['#','X','O','X','O','X','O','X','O','X']\n",
    "display_board(test_board)"
   ]
  },
  {
   "cell_type": "markdown",
   "metadata": {},
   "source": [
    "**Step 2: Write a function that can take in a player input and assign their marker as 'X' or 'O'. Think about using *while* loops to continually ask until you get a correct answer.**"
   ]
  },
  {
   "cell_type": "code",
   "execution_count": 70,
   "metadata": {
    "collapsed": true
   },
   "outputs": [],
   "source": [
    "def player_input (): \n",
    "    valid_input = False \n",
    "    players_dict = {'player_1':'','player_2':''}\n",
    "    while valid_input == False: \n",
    "        usr_input = input('Select whether you woukd like to be X or O ')\n",
    "        if (usr_input.upper() in ['X','O']):\n",
    "            players_dict['player_1'] = usr_input.upper()\n",
    "            valid_input = True\n",
    "            if (players_dict['player_1'] == 'X'):\n",
    "                players_dict['player_2'] = 'O'\n",
    "            else:\n",
    "                players_dict['player_2'] = 'X'\n",
    "    return players_dict \n",
    "\n",
    "# def player_input():\n",
    "#     # ask the player if they would like to be x or o \n",
    "#     # loop and check if they have spcified a valid value \n",
    "#     # update the marker for the player variable\n",
    "#     valid_marker = 0\n",
    "#     while  valid_marker == 0 : \n",
    "#         usr_input = input(\"Select whether you would like to be X or O\")\n",
    "#         if usr_input.upper()  in ['X','O'] :\n",
    "#             player_1 = usr_input.upper()\n",
    "#         if player_1 == 'X' : \n",
    "#             player_2 = 'O' \n",
    "#         else: \n",
    "#             player_2 = 'X'  \n",
    "#         valid_marker = 1 \n",
    "#     return player_1 "
   ]
  },
  {
   "cell_type": "markdown",
   "metadata": {},
   "source": [
    "**TEST Step 2:** run the function to make sure it returns the desired output"
   ]
  },
  {
   "cell_type": "code",
   "execution_count": 7,
   "metadata": {
    "collapsed": true
   },
   "outputs": [
    {
     "data": {
      "text/plain": [
       "{'player_1': 'X', 'player_2': 'O'}"
      ]
     },
     "execution_count": 7,
     "metadata": {},
     "output_type": "execute_result"
    }
   ],
   "source": [
    "player_input()\n"
   ]
  },
  {
   "cell_type": "markdown",
   "metadata": {},
   "source": [
    "**Step 3: Write a function that takes in the board list object, a marker ('X' or 'O'), and a desired position (number 1-9) and assigns it to the board.**"
   ]
  },
  {
   "cell_type": "code",
   "execution_count": 32,
   "metadata": {
    "collapsed": true
   },
   "outputs": [],
   "source": [
    "def place_marker(board, marker, position ):\n",
    "    board[position] = marker\n",
    "    pass"
   ]
  },
  {
   "cell_type": "markdown",
   "metadata": {},
   "source": [
    "**TEST Step 3:** run the place marker function using test parameters and display the modified board"
   ]
  },
  {
   "cell_type": "code",
   "execution_count": 22,
   "metadata": {
    "collapsed": true
   },
   "outputs": [
    {
     "name": "stdout",
     "output_type": "stream",
     "text": [
      "Poistions 1-3 ['X', 'O', 'X']\n",
      "Positions 4-6 ['O', 'X', 'O']\n",
      "Positions 7-9 ['X', 'X', 'X']\n"
     ]
    }
   ],
   "source": [
    "place_marker(test_board,'X',8)\n",
    "display_board(test_board)"
   ]
  },
  {
   "cell_type": "markdown",
   "metadata": {},
   "source": [
    "**Step 4: Write a function that takes in a board and a mark (X or O) and then checks to see if that mark has won. **"
   ]
  },
  {
   "cell_type": "code",
   "execution_count": 67,
   "metadata": {
    "collapsed": true
   },
   "outputs": [],
   "source": [
    "def win_check(board, mark):\n",
    "    # nested for loop x = row, y = column \n",
    "    # check diagonals first\n",
    "    # then horizontals \n",
    "    # output the type of win to make debugging easier \n",
    "    i = 1 \n",
    "    column = 3 \n",
    "    convert_board = board\n",
    "\n",
    "    while i <= len(board)-1: \n",
    "        if (i%3 == 1 ):\n",
    "            if ( board[i] == board[i+1] == board[i+2] and board [i] != '') :\n",
    "                print ( 'Horizontal win for'+ mark ) \n",
    "                return True\n",
    "        if (i<=3 and board[i] == board[i+3] == board[i+6] and board[i] != '') : \n",
    "            print ('vertical win for'+ mark)\n",
    "            return True\n",
    "        if (i == 1  and board[i] == board[i+4] == board[i+8] and board[i] != ''): \n",
    "            print ('Diagonal right to left win for '+ mark )\n",
    "            return True\n",
    "        if (i == 3 and board[i] == board[i+2] == board[i+2] and board[i] != '') : \n",
    "            print ('Diagonal win left to right, win for'+ mark)\n",
    "            return True\n",
    "        print(i)\n",
    "        i+=1\n",
    "    return False"
   ]
  },
  {
   "cell_type": "markdown",
   "metadata": {},
   "source": [
    "**TEST Step 4:** run the win_check function against our test_board - it should return True"
   ]
  },
  {
   "cell_type": "code",
   "execution_count": 11,
   "metadata": {
    "collapsed": true
   },
   "outputs": [
    {
     "name": "stdout",
     "output_type": "stream",
     "text": [
      "Diagonal right to left win for X\n"
     ]
    },
    {
     "data": {
      "text/plain": [
       "True"
      ]
     },
     "execution_count": 11,
     "metadata": {},
     "output_type": "execute_result"
    }
   ],
   "source": [
    "win_check(test_board,'X')\n"
   ]
  },
  {
   "cell_type": "markdown",
   "metadata": {},
   "source": [
    "**Step 5: Write a function that uses the random module to randomly decide which player goes first. You may want to lookup random.randint() Return a string of which player went first.**"
   ]
  },
  {
   "cell_type": "code",
   "execution_count": 12,
   "metadata": {
    "collapsed": true
   },
   "outputs": [],
   "source": [
    "import random\n",
    "\n",
    "def choose_first():\n",
    "    return random.randint(1,2)"
   ]
  },
  {
   "cell_type": "markdown",
   "metadata": {},
   "source": [
    "**Step 6: Write a function that returns a boolean indicating whether a space on the board is freely available.**"
   ]
  },
  {
   "cell_type": "code",
   "execution_count": 73,
   "metadata": {
    "collapsed": true
   },
   "outputs": [],
   "source": [
    "def space_check(board, position):\n",
    "    if board[position] in ('X','O') :\n",
    "        isAvailable = False\n",
    "    else: \n",
    "        isAvailable = True\n",
    "    return isAvailable\n",
    "    pass"
   ]
  },
  {
   "cell_type": "markdown",
   "metadata": {},
   "source": [
    "**Step 7: Write a function that checks if the board is full and returns a boolean value. True if full, False otherwise.**"
   ]
  },
  {
   "cell_type": "code",
   "execution_count": 14,
   "metadata": {
    "collapsed": true
   },
   "outputs": [],
   "source": [
    "def full_board_check(board):\n",
    "    i=1\n",
    "    count=0\n",
    "    while i < len(board) :\n",
    "        if(board[i] in ('X','O')):\n",
    "            count+=1 \n",
    "        i+=1\n",
    "    if (count == 9):\n",
    "        return True \n",
    "    else : \n",
    "        return False "
   ]
  },
  {
   "cell_type": "markdown",
   "metadata": {},
   "source": [
    "**Step 8: Write a function that asks for a player's next position (as a number 1-9) and then uses the function from step 6 to check if it's a free position. If it is, then return the position for later use.**"
   ]
  },
  {
   "cell_type": "code",
   "execution_count": 52,
   "metadata": {
    "collapsed": true
   },
   "outputs": [],
   "source": [
    "def player_choice(board):\n",
    "    try: \n",
    "        usr_move =  input('Please  select a number from 1-9 to choose your next move')\n",
    "        choice = int(usr_move)\n",
    "        if (choice in (1,2,3,4,5,6,7,8,9)): \n",
    "            space_check(board,choice)\n",
    "        return choice\n",
    "    except:\n",
    "        print('You need to enter an integer value between 1 and 9')"
   ]
  },
  {
   "cell_type": "markdown",
   "metadata": {},
   "source": [
    "**Step 9: Write a function that asks the player if they want to play again and returns a boolean True if they do want to play again.**"
   ]
  },
  {
   "cell_type": "code",
   "execution_count": 16,
   "metadata": {
    "collapsed": true
   },
   "outputs": [],
   "source": [
    "def replay():\n",
    "    repeat_choice = False\n",
    "    repeat_play_input = input('Would you like to play again. Type yes or no ?')\n",
    "    try: \n",
    "        if (repeat_play_input == 'yes' ): \n",
    "            repeat_choice = True\n",
    "            return repeat_choice \n",
    "        else:\n",
    "            return repeat_choice\n",
    "    except IOError:\n",
    "        print ('You need to enter either yes or no') \n",
    "    pass"
   ]
  },
  {
   "cell_type": "markdown",
   "metadata": {
    "collapsed": true
   },
   "source": [
    "**Step 10: Here comes the hard part! Use while loops and the functions you've made to run the game!**"
   ]
  },
  {
   "cell_type": "code",
   "execution_count": 1,
   "metadata": {
    "collapsed": true
   },
   "outputs": [
    {
     "name": "stdout",
     "output_type": "stream",
     "text": [
      "Welcome to Tic Tac Toe!\n"
     ]
    },
    {
     "ename": "NameError",
     "evalue": "name 'player_input' is not defined",
     "output_type": "error",
     "traceback": [
      "\u001b[0;31m---------------------------------------------------------------------------\u001b[0m",
      "\u001b[0;31mNameError\u001b[0m                                 Traceback (most recent call last)",
      "Cell \u001b[0;32mIn [1], line 18\u001b[0m\n\u001b[1;32m     15\u001b[0m \u001b[38;5;28;01mwhile\u001b[39;00m repeat_choice \u001b[38;5;241m==\u001b[39m \u001b[38;5;28;01mTrue\u001b[39;00m :\n\u001b[1;32m     16\u001b[0m     \u001b[38;5;66;03m# Set the game up here\u001b[39;00m\n\u001b[1;32m     17\u001b[0m     board \u001b[38;5;241m=\u001b[39m [\u001b[38;5;124m'\u001b[39m\u001b[38;5;124m#\u001b[39m\u001b[38;5;124m'\u001b[39m,\u001b[38;5;124m'\u001b[39m\u001b[38;5;124m'\u001b[39m,\u001b[38;5;124m'\u001b[39m\u001b[38;5;124m'\u001b[39m,\u001b[38;5;124m'\u001b[39m\u001b[38;5;124m'\u001b[39m,\u001b[38;5;124m'\u001b[39m\u001b[38;5;124m'\u001b[39m,\u001b[38;5;124m'\u001b[39m\u001b[38;5;124m'\u001b[39m,\u001b[38;5;124m'\u001b[39m\u001b[38;5;124m'\u001b[39m,\u001b[38;5;124m'\u001b[39m\u001b[38;5;124m'\u001b[39m,\u001b[38;5;124m'\u001b[39m\u001b[38;5;124m'\u001b[39m,\u001b[38;5;124m'\u001b[39m\u001b[38;5;124m'\u001b[39m]\n\u001b[0;32m---> 18\u001b[0m     players \u001b[38;5;241m=\u001b[39m \u001b[43mplayer_input\u001b[49m()\n\u001b[1;32m     19\u001b[0m     who_first \u001b[38;5;241m=\u001b[39m choose_first()\n\u001b[1;32m     20\u001b[0m     player_1 \u001b[38;5;241m=\u001b[39m players[\u001b[38;5;124m'\u001b[39m\u001b[38;5;124mplayer_1\u001b[39m\u001b[38;5;124m'\u001b[39m]\n",
      "\u001b[0;31mNameError\u001b[0m: name 'player_input' is not defined"
     ]
    }
   ],
   "source": [
    "# Above Functions \n",
    "# win_check(board, mark):\n",
    "# def display_board(board):\n",
    "# def player_input():\n",
    "# def place_marker(board, marker, position):\n",
    "# def win_check(board, mark):\n",
    "# def choose_first():\n",
    "# def space_check(board, position):\n",
    "# def full_board_check(board):\n",
    "# def player_choice(board):\n",
    "# def replay():\n",
    "repeat_choice = True\n",
    "print('Welcome to Tic Tac Toe!')\n",
    "# while the board is not full\n",
    "while repeat_choice == True :\n",
    "    # Set the game up here\n",
    "    board = ['#','','','','','','','','','']\n",
    "    players = player_input()\n",
    "    who_first = choose_first()\n",
    "    player_1 = players['player_1']\n",
    "    player_2 = players['player_2']\n",
    "    game_on = True\n",
    "    \n",
    "    while game_on == True :\n",
    "        #Player 1 Turn\n",
    "        display_board(board)\n",
    "        move = player_choice(board)\n",
    "        if (space_check(board, move) == True ): \n",
    "            place_marker(board, player_1, move)\n",
    "        if (win_check(board,player_1) == True ):\n",
    "            print('Player 1 Wins')\n",
    "            game_on = False \n",
    "        # Player2's turn.\n",
    "        display_board(board)\n",
    "        move = player_choice(board )\n",
    "        if (space_check(board, move) == True ): \n",
    "            place_marker(board,player_2, int(move))\n",
    "        if (win_check(board,player_2)):\n",
    "            print ('Player 2 Wins')\n",
    "            game_on = False\n",
    "    repeat_choice = replay()\n",
    "    if repeat_choice == False: \n",
    "        break    \n",
    "    #pass\n",
    "\n",
    "    "
   ]
  },
  {
   "cell_type": "markdown",
   "metadata": {
    "collapsed": true
   },
   "source": [
    "## Good Job!"
   ]
  }
 ],
 "metadata": {
  "kernelspec": {
   "display_name": "Python 3.10.7 64-bit ('creditrisk-3.10.7')",
   "language": "python",
   "name": "python3"
  },
  "language_info": {
   "codemirror_mode": {
    "name": "ipython",
    "version": 3
   },
   "file_extension": ".py",
   "mimetype": "text/x-python",
   "name": "python",
   "nbconvert_exporter": "python",
   "pygments_lexer": "ipython3",
   "version": "3.10.7"
  },
  "vscode": {
   "interpreter": {
    "hash": "efca6b3c2acce602048187ae428e4036f2163fea72f774ed0040fe955a07e392"
   }
  }
 },
 "nbformat": 4,
 "nbformat_minor": 1
}
